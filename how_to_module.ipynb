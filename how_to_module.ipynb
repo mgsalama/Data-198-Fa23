{
 "cells": [
  {
   "cell_type": "markdown",
   "metadata": {},
   "source": [
    "# How to Write a Notebook - Data 198 Fall 2023\n",
    "## Tips and Resources for Development\n",
    "\n",
    "### Written by: Manaar Salama"
   ]
  },
  {
   "cell_type": "markdown",
   "metadata": {},
   "source": [
    "This notebook is meant to serve as a small repository of resources and information that you can reference when writing notebooks. It's not exhaustive by any means, but it includes many of the major tips I found useful when I was first developing notebooks with Modules. "
   ]
  },
  {
   "cell_type": "markdown",
   "metadata": {},
   "source": [
    "Also, some of the stuff I talk about in this notebook is based on personal preference and is totally subjective. Writing and developing notebooks is similar to writing any other piece of media -- everyone has their own style and makes their own decisions when doing so! I'll just be giving out some general info on how I approach these topics, and you can choose to follow what makes sense and scrap / modify what doesn't."
   ]
  },
  {
   "cell_type": "markdown",
   "metadata": {},
   "source": [
    "## Concepts We'll Cover\n",
    "\n",
    "1. Methods of Asking Questions to Students\n",
    "2. Formatting and Stylizing Notebooks\n",
    "3. Basic Do's and Don't's [This section is more subjective!]\n",
    "4. How to Approach Creating a Notebook from Scratch"
   ]
  },
  {
   "cell_type": "markdown",
   "metadata": {},
   "source": [
    "**Note:** The first two sections of this notebook are based heavily on previous Data 198 materials from Elias Saravia."
   ]
  },
  {
   "cell_type": "code",
   "execution_count": null,
   "metadata": {},
   "outputs": [],
   "source": [
    "import numpy as np\n",
    "import pandas as pd\n",
    "from datascience import *\n",
    "import matplotlib.pyplot as plt\n",
    "%matplotlib inline\n",
    "plt.style.use(\"fivethirtyeight\")\n",
    "import plotly.express as px"
   ]
  },
  {
   "cell_type": "markdown",
   "metadata": {},
   "source": [
    "<hr style=\"border: 2px solid #003262\">\n",
    "<hr style=\"border: 2px solid #C9B676\">"
   ]
  },
  {
   "cell_type": "markdown",
   "metadata": {},
   "source": [
    "## 1. Methods of Asking Questions to Students"
   ]
  },
  {
   "cell_type": "markdown",
   "metadata": {},
   "source": [
    "In this section, we'll be doing a **quick walkthrough of the different ways of asking students questions** in a Jupyter Notebook! You probably have come across these in notebooks you've completed and they may seem self-explanatory. Nonetheless, it may still be useful as a reference for you to switch up the different types of questions you ask the students so that the notebook isn't as monotonous for them."
   ]
  },
  {
   "cell_type": "markdown",
   "metadata": {},
   "source": [
    "### 1. Coding Questions\n",
    "\n",
    "In Jupyter Notebooks, we typically ask three different types of questions: **fill-in-the-blank, debugging, and code-and-run.**"
   ]
  },
  {
   "cell_type": "markdown",
   "metadata": {},
   "source": [
    "#### 1.1 Fill-in-the-blank Questions\n",
    "\n",
    "These questions are exactly as the name implies: we provide the students with an explanation of the problem (and also perhaps an example of what you're asking) and then ask the students to fill in the ellipsis with the correct code!\n",
    "\n",
    "For example, if we're asking students to calculate the sum of a list of items, we might format the question as follows:"
   ]
  },
  {
   "cell_type": "markdown",
   "metadata": {},
   "source": [
    "The `np.sum()` method allows us to sum up all of the items in a list. Feel free to take a look at the [documentation here](https://numpy.org/doc/stable/reference/generated/numpy.sum.html) to see examples of some calls to it."
   ]
  },
  {
   "cell_type": "markdown",
   "metadata": {},
   "source": [
    "<!-- BEGIN QUESTION -->\n",
    "<div class=\"alert alert-warning\">\n",
    "\n",
    "### Question 1.1:\n",
    "**Use the `np.sum()` method to sum up the items in the following list.**\n",
    "</div>"
   ]
  },
  {
   "cell_type": "code",
   "execution_count": null,
   "metadata": {},
   "outputs": [],
   "source": [
    "# Fill in the ellipsis below with the call to np.sum()\n",
    "lst = [1, 2, 3, 4]\n",
    "sum_lst = ...\n",
    "sum_lst"
   ]
  },
  {
   "cell_type": "markdown",
   "metadata": {},
   "source": [
    "<!-- END QUESTION -->\n",
    "#### 1.2 Debugging\n",
    "\n",
    "These questions may be more applicable for students in courses where they are expected to have more coding experience, since these questions are likely a bit more advanced for new coders. For these questions, it's good to ensure you have given proper context for why the code may not be working and/or a hint to direct the student of where to look.\n",
    "\n",
    "Here's an example of a basic debugging question:"
   ]
  },
  {
   "cell_type": "markdown",
   "metadata": {},
   "source": [
    "<!-- BEGIN QUESTION -->\n",
    "<div class=\"alert alert-warning\">\n",
    "\n",
    "### Question 1.2:\n",
    "**The code for the `print()` method below results in an error! Find the source of the error and fix it.**\n",
    "    \n",
    "*Hint:* The error we get from running the cell shows us we're missing something important at the end...\n",
    "</div>"
   ]
  },
  {
   "cell_type": "code",
   "execution_count": null,
   "metadata": {},
   "outputs": [],
   "source": [
    "# Fix the error in the following line\n",
    "print(\"Hello world!\""
   ]
  },
  {
   "cell_type": "markdown",
   "metadata": {},
   "source": [
    "<!-- END QUESTION -->\n",
    "#### 1.3 Code-and-Run\n",
    "\n",
    "This type of question is similar to fill-in-the-blank, but asks for some more independence from the student. With these types of questions, for students who are less familiar and comfortable coding, you should definitely provide an example before asking the question.\n",
    "\n",
    "A common example of this is providing an image of a histogram or other graph, and then asking the students to write the code that generates the output.\n",
    "\n",
    "Here's an example:"
   ]
  },
  {
   "cell_type": "code",
   "execution_count": null,
   "metadata": {},
   "outputs": [],
   "source": [
    "tips = pd.read_csv('tips.csv')\n",
    "tips.head(5)"
   ]
  },
  {
   "cell_type": "markdown",
   "metadata": {},
   "source": [
    "Using the `tips.csv` dataset and the `plotly.express` module, we can create some cool interactive visualizations. Here's an example of creating a scatterplot based on the total bill amount and the tip amount:"
   ]
  },
  {
   "cell_type": "code",
   "execution_count": null,
   "metadata": {},
   "outputs": [],
   "source": [
    "fig = px.scatter(x = tips['total'], y = tips['tip'], labels = {'x': 'Total Bill Amount', 'y': 'Total Tip Amount'},\n",
    "                title = 'Total Bill Amount vs. Total Tip Amount')\n",
    "fig.show()"
   ]
  },
  {
   "cell_type": "markdown",
   "metadata": {},
   "source": [
    "Now, you try!"
   ]
  },
  {
   "cell_type": "markdown",
   "metadata": {},
   "source": [
    "<!-- BEGIN QUESTION -->\n",
    "<div class=\"alert alert-warning\">\n",
    "\n",
    "### Question 1.3:\n",
    "**Write the code to create the following scatterplot visualizing the party size and tip amount.**\n",
    "</div>"
   ]
  },
  {
   "cell_type": "markdown",
   "metadata": {},
   "source": [
    "<img src=\"q2-1_plot.png\" alt=\"Plot to be created for Question 2.1\" style=\"width:700px;height:400px;\"/>"
   ]
  },
  {
   "cell_type": "code",
   "execution_count": null,
   "metadata": {},
   "outputs": [],
   "source": [
    "# Write the code to generate the above scatterplot here"
   ]
  },
  {
   "cell_type": "markdown",
   "metadata": {},
   "source": [
    "<!-- END QUESTION -->\n",
    "Hopefully you now have a better idea of the different types of coding questions you can ask the students! Now, let's dive into how to approach written questions in notebooks."
   ]
  },
  {
   "cell_type": "markdown",
   "metadata": {},
   "source": [
    "### 2. Written Questions\n",
    "\n",
    "There are many **different types of written questions we can ask the students**; these types are a little more self-explanatory than the coding examples, so I'll simply list the different types with examples below. Feel free to ask if you have any further questions on them!"
   ]
  },
  {
   "cell_type": "markdown",
   "metadata": {},
   "source": [
    "#### 2.1 Give an Example\n",
    "\n",
    "Useful for demonstrating understanding of previously covered material.\n",
    "\n",
    "Example: \"Give an example of when you would need to use the 'join' function.\""
   ]
  },
  {
   "cell_type": "markdown",
   "metadata": {},
   "source": [
    "#### 2.2 Describe\n",
    "\n",
    "Useful for visual analysis / looking for trends in the data.\n",
    "\n",
    "Example: \"What does the scatter plot show, and what conclusions can we draw from it?\""
   ]
  },
  {
   "cell_type": "markdown",
   "metadata": {},
   "source": [
    "#### 2.3 Multiple Choice\n",
    "\n",
    "Another format that is useful for demonstrating the student's understanding.\n",
    "\n",
    "Example: \"Which of the following is true about the data? \n",
    "* A. only contains integers\n",
    "* B. contains integers and strings\n",
    "* C. only contains strings\""
   ]
  },
  {
   "cell_type": "markdown",
   "metadata": {},
   "source": [
    "#### 2.4 Label\n",
    "\n",
    "Students can answer these types of questions to ensure they know what a graph represents.\n",
    "\n",
    "Example: \"List the correct labels for the x-axis, y-axis, and red and blue lines in the above graph.\""
   ]
  },
  {
   "cell_type": "markdown",
   "metadata": {},
   "source": [
    "#### 2.5 Compare and Contrast\n",
    "\n",
    "Useful for showing understanding of concepts that may be similar to or add on from previously learned ones.\n",
    "\n",
    "Example: \"How is the test statistic different from the population parameter?\""
   ]
  },
  {
   "cell_type": "markdown",
   "metadata": {},
   "source": [
    "### 3. Scaffolding - A Key to Writing Effective Questions\n",
    "\n",
    "As a final note when writing questions for students, try to always think about what type of **scaffolding** you've included for the students as a way of building up to the question with more introductory / familiar material.\n",
    "\n",
    "Questions without scaffolding can be very hard for students to approach and begin solving. To reduce the chance of this, here are some ways you can implement scaffolding in notebooks:"
   ]
  },
  {
   "cell_type": "markdown",
   "metadata": {},
   "source": [
    "#### 3.1 Skeleton Code\n",
    "\n",
    "Skeleton code is especially **helpful for fill-in-the-blank questions that may require multiple steps!** By providing skeleton code, you help give the student direction on where to start. Example below:"
   ]
  },
  {
   "cell_type": "code",
   "execution_count": null,
   "metadata": {},
   "outputs": [],
   "source": [
    "error = ...\n",
    "sq_error = ...\n",
    "mse = np.mean(sq_error)"
   ]
  },
  {
   "cell_type": "markdown",
   "metadata": {},
   "source": [
    "#### 3.2 Hints\n",
    "\n",
    "Hints are very common in data science and CS course assignments. Just as with skeleton code, **they give the student a place to start answering a question that otherwise could seem very intimidating.** Example below:"
   ]
  },
  {
   "cell_type": "markdown",
   "metadata": {},
   "source": [
    "*Hint:* The modulo operator (%) may be useful for determining whether a number is even or odd!"
   ]
  },
  {
   "cell_type": "markdown",
   "metadata": {},
   "source": [
    "#### 3.3 Comments\n",
    "\n",
    "Comments within the code cells serve in a way similar to written hints. Example below:"
   ]
  },
  {
   "cell_type": "code",
   "execution_count": null,
   "metadata": {},
   "outputs": [],
   "source": [
    "# Select the 'price' column\n",
    "\n",
    "# Calculate the average price\n"
   ]
  },
  {
   "cell_type": "markdown",
   "metadata": {},
   "source": [
    "There are many ways of scaffolding and levels to which it can be done -- in courses where students have little coding experience but have assignments where they are required to code, a good amount of scaffolding can make the difference between the student being interested in the activity, and being too frustrated and turned away from data science!"
   ]
  },
  {
   "cell_type": "markdown",
   "metadata": {},
   "source": [
    "<hr style=\"border: 2px solid #003262\">\n",
    "<hr style=\"border: 2px solid #C9B676\">"
   ]
  },
  {
   "cell_type": "markdown",
   "metadata": {},
   "source": [
    "## 2. Formatting and Stylizing Notebooks"
   ]
  },
  {
   "cell_type": "markdown",
   "metadata": {},
   "source": [
    "This section is going to be a bit more simple and serve as more of a reference for you to look back to when you're developing and want to stylize the notebook a bit more!"
   ]
  },
  {
   "cell_type": "markdown",
   "metadata": {},
   "source": [
    "### 2.1 Dividers\n",
    "\n",
    "Dividers can serve as a nice visual representation of a split between sections and content for the students. You can see an example of dividers above with the blue and gold lines (taken from Jonathan's introduction to Python & Jupyter notebook) that looks nice and serves the purpose of separation!"
   ]
  },
  {
   "cell_type": "markdown",
   "metadata": {},
   "source": [
    "### 2.2 Alert & Question Boxes\n",
    "\n",
    "Alert and question boxes are a good way of bringing the student's attention to especially important points or to questions. This is more of a matter of personal preference, but I also like denoting questions with a box so that the student doesn't miss them! \n",
    "\n",
    "**Note:** When using boxes, be sure to write the cell's code in HTML, not Markdown.\n",
    "\n",
    "Here are the different types of boxes that you can use as a reference:"
   ]
  },
  {
   "cell_type": "markdown",
   "metadata": {},
   "source": [
    "<div class=\"alert alert-success\">\n",
    "<b> A success box </b> \n",
    "</div>"
   ]
  },
  {
   "cell_type": "markdown",
   "metadata": {},
   "source": [
    "<div class=\"alert alert-danger\">\n",
    "<b> A danger box </b> \n",
    "</div>"
   ]
  },
  {
   "cell_type": "markdown",
   "metadata": {},
   "source": [
    "<div class=\"alert alert-info\">\n",
    "<b> An info box </b> \n",
    "</div>"
   ]
  },
  {
   "cell_type": "markdown",
   "metadata": {},
   "source": [
    "<div class=\"alert alert-warning\">\n",
    "<b> A warning box (I also utilize this one for questions) </b> \n",
    "</div>"
   ]
  },
  {
   "cell_type": "markdown",
   "metadata": {},
   "source": [
    "### 2.3 Hiding Code Cells (section taken from Elias Saravia's D198 resources)"
   ]
  },
  {
   "cell_type": "markdown",
   "metadata": {},
   "source": [
    "Sometimes when the intent of the module is not to teach coding, it may make sense stylistically to hide some or all code cells."
   ]
  },
  {
   "cell_type": "code",
   "execution_count": null,
   "metadata": {},
   "outputs": [],
   "source": [
    "from IPython.display import HTML\n",
    "\n",
    "hide_me = ''\n",
    "HTML('''<script>\n",
    "code_show=true; \n",
    "function code_toggle() {\n",
    "  if (code_show) {\n",
    "    $('div.input').each(function(id) {\n",
    "      el = $(this).find('.cm-variable:first');\n",
    "      if (id == 0 || el.text() == 'hide_me') {\n",
    "        $(this).hide();\n",
    "      }\n",
    "    });\n",
    "    $('div.output_prompt').css('opacity', 0);\n",
    "  } else {\n",
    "    $('div.input').each(function(id) {\n",
    "      $(this).show();\n",
    "    });\n",
    "    $('div.output_prompt').css('opacity', 1);\n",
    "  }\n",
    "  code_show = !code_show\n",
    "} \n",
    "$( document ).ready(code_toggle);\n",
    "</script>\n",
    "<form action=\"javascript:code_toggle()\"><input style=\"opacity:1\" type=\"submit\" value=\"Click here to reveal the raw code.\"></form>''')"
   ]
  },
  {
   "cell_type": "markdown",
   "metadata": {},
   "source": [
    "#### 2.3.1 Hide selected code cells (with option to toggle on and off)\n",
    "The code cell above has a button to reveal hidden code cells. Note that cell outputs and widgets should still be visible!\n",
    "\n",
    "To indicate that a code cell should be hidden, add `hide_me` as the first line of any code cells you want hidden. As an example, there is a hidden code cell immediately under this cell. Click the reveal button above to reveal it. You can run the cell above to hide the code again!"
   ]
  },
  {
   "cell_type": "code",
   "execution_count": null,
   "metadata": {},
   "outputs": [],
   "source": [
    "hide_me\n",
    "def f(x):\n",
    "    return x"
   ]
  },
  {
   "cell_type": "markdown",
   "metadata": {},
   "source": [
    "#### 2.3.2 Hide all code cells (with option to toggle on and off)\n",
    "For some modules, you may want to hide all code inputs. The following cell has the code to hide every code cell in the notebook (outputs and widgets will still be displayed). Run the cell to hide code cells, and click the blue underlined \"here\" to bring the code cells back."
   ]
  },
  {
   "cell_type": "code",
   "execution_count": null,
   "metadata": {},
   "outputs": [],
   "source": [
    "from IPython.display import HTML\n",
    "\n",
    "HTML('''<script>\n",
    "code_show=true; \n",
    "function code_toggle() {\n",
    " if (code_show){\n",
    " $('div.input').hide();\n",
    " } else {\n",
    " $('div.input').show();\n",
    " }\n",
    " code_show = !code_show\n",
    "} \n",
    "$( document ).ready(code_toggle);\n",
    "</script>\n",
    "The raw code for this IPython notebook is by default hidden for easier reading.\n",
    "To toggle on/off the raw code, click <a href=\"javascript:code_toggle()\">here</a>.''')"
   ]
  },
  {
   "cell_type": "code",
   "execution_count": null,
   "metadata": {},
   "outputs": [],
   "source": [
    "some_code_cell = \"some_code_cell\""
   ]
  },
  {
   "cell_type": "markdown",
   "metadata": {},
   "source": [
    "### 2.4 Embedding Images and Videos"
   ]
  },
  {
   "cell_type": "markdown",
   "metadata": {},
   "source": [
    "It can be very helpful to be able to display images and videos in Jupyter Notebooks (particularly if the image or video serves as a walkthrough or more context into the notebook). Here are some ways of accomplishing this:"
   ]
  },
  {
   "cell_type": "markdown",
   "metadata": {},
   "source": [
    "#### 2.4.1 Images\n",
    "\n",
    "You can embed using a local path:"
   ]
  },
  {
   "cell_type": "markdown",
   "metadata": {},
   "source": [
    "<img src=\"Data_scientist_Venn_diagram.png\" alt=\"Data scientist Venn diagram\"/>"
   ]
  },
  {
   "cell_type": "markdown",
   "metadata": {},
   "source": [
    "Or embed using a url:"
   ]
  },
  {
   "cell_type": "markdown",
   "metadata": {},
   "source": [
    "<img src=\"https://cdn.vox-cdn.com/thumbor/4rJ7OdYmzECdCYZCms00CyNZyyg=/0x0:5568x3712/1200x0/filters:focal(0x0:5568x3712):no_upscale()/cdn.vox-cdn.com/uploads/chorus_asset/file/11816637/usa_today_10376139.jpg\" alt=\"Picture of Oski bear\" style=\"width:600px;height:400px;\">"
   ]
  },
  {
   "cell_type": "markdown",
   "metadata": {},
   "source": [
    "Oftentimes, you'll want to change the style attribute to adjust the size so that it's displayed better in the notebook. See below for an example:"
   ]
  },
  {
   "cell_type": "markdown",
   "metadata": {},
   "source": [
    "<img src=\"Data_scientist_Venn_diagram.png\" alt=\"Data scientist Venn diagram\" style=\"width:300px;height:300px;\">"
   ]
  },
  {
   "cell_type": "markdown",
   "metadata": {},
   "source": [
    "#### 2.4.2 Videos"
   ]
  },
  {
   "cell_type": "markdown",
   "metadata": {},
   "source": [
    "You can use the `IPython` module's `YouTubeVideo` method for embedding helpful YouTube videos in the notebook. Example below:"
   ]
  },
  {
   "cell_type": "code",
   "execution_count": null,
   "metadata": {
    "scrolled": false
   },
   "outputs": [],
   "source": [
    "from IPython.lib.display import YouTubeVideo\n",
    "YouTubeVideo('7nSCZuvtO4M', # the ID of the video\n",
    "             width = 980, # size attributes\n",
    "             height = 500)"
   ]
  },
  {
   "cell_type": "markdown",
   "metadata": {},
   "source": [
    "### 2.5 Converting Notebook to PDF via Otter (section taken from Elias Saravia's D198 resources)\n",
    "\n",
    "For most modules where the students need to turn in notebook work as an assignment, not all parts of the notebook are required for grading. Furthermore, the built-in PDF converter can sometimes give weirdly-formatted outputs, especially with regards to graphical outputs. [otter-grader](https://otter-grader.readthedocs.io/en/latest/pdfs.html) is a utility designed by a Berkeley student to address some of these issues."
   ]
  },
  {
   "cell_type": "markdown",
   "metadata": {},
   "source": [
    "Otter works by altering the metadata of the notebook. The notebook creator first indicates which cells should be included in the PDF (both Markdown and code cells) by adding `</!-- BEGIN QUESTION -->` and `</!-- END QUESTION -->` (**without the backslash before the \"!\") to those cells**. I have added these tags to all of the question-and-answer cells in the questions section above, so you can see some examples of how the PDF is generated!"
   ]
  },
  {
   "cell_type": "markdown",
   "metadata": {},
   "source": [
    "To make it easier to use Gradescope with assignments, Otter will also include pagebreaks between exported sections so that templating can be made easier. To use this, set the kwarg `pagebreaks=True`. Note that you must also set `filtering=True` or `pagebreaks` will be ignored."
   ]
  },
  {
   "cell_type": "code",
   "execution_count": null,
   "metadata": {},
   "outputs": [],
   "source": [
    "from otter.export import export_notebook\n",
    "export_notebook(\"how_to_module.ipynb\", filtering=True, pagebreaks=True)"
   ]
  },
  {
   "cell_type": "markdown",
   "metadata": {},
   "source": [
    "After running the cell above, you should be able to go to `File` --> `Open`, and that should open up the folder with a bunch of files, including this *how_to_module.ipynb* as well as *how_to_module.pdf*. Open up the PDF, and you should see the questions and answers from the coding questions section above!\n",
    "\n",
    "Additionally, if you want to make it easier for students to have a button to click to download the PDF, you can do the following:"
   ]
  },
  {
   "cell_type": "code",
   "execution_count": null,
   "metadata": {},
   "outputs": [],
   "source": [
    "from otter.export import export_notebook\n",
    "from IPython.display import display, HTML\n",
    "\n",
    "export_notebook(\"how_to_module.ipynb\", filtering=True, pagebreaks=True)\n",
    "display(HTML(\"Save this notebook, then click <a href='how_to_module.pdf' download>here</a> to open the pdf.\"))"
   ]
  },
  {
   "cell_type": "markdown",
   "metadata": {},
   "source": [
    "Clicking 'here' above should automatically download the PDF of the notebook."
   ]
  },
  {
   "cell_type": "markdown",
   "metadata": {},
   "source": [
    "<hr style=\"border: 2px solid #003262\">\n",
    "<hr style=\"border: 2px solid #C9B676\">"
   ]
  },
  {
   "cell_type": "markdown",
   "metadata": {},
   "source": [
    "## 3. Basic Do's and Don't's "
   ]
  },
  {
   "cell_type": "markdown",
   "metadata": {},
   "source": [
    "This is a bit of a shorter and more subjective section, but here's just a few notes I think some of you may find helpful to hear and keep in mind!"
   ]
  },
  {
   "cell_type": "markdown",
   "metadata": {},
   "source": [
    "#### 3.1 Do's When Developing:\n",
    "1. **Include the feedback form at the bottom of every notebook!** Feedback is always super important for notebooks; be sure to include it and encourage students to fill it out with each notebook! I'll leave a sample link to the form at the bottom of this notebook.\n",
    "2. **If applicable, provide links to external data science resources and/or opportunities to get help.** For example, if the course's students are not super comfortable with coding, it can be helpful to include a link for them to get additional help, like the [Data Peer Consultants with D-Lab!](https://dlab.berkeley.edu/training/frontdesk-zoom)\n",
    "3. **Try to keep consistent Markdown and code formatting with your team lead / fellow developers.** This is not a mandatory do when developing, but it helps make the notebooks look more professional and clean :)"
   ]
  },
  {
   "cell_type": "markdown",
   "metadata": {},
   "source": [
    "#### 3.2 Don't's When Developing:\n",
    "1. **Try to avoid walls of text/code or blank code question cells with no hints or comments!** These can appear very boring or intimidating for the students, so try to keep text concise or break it up, and always utilize scaffolding.\n",
    "2. **Don't keep any unused code and/or code cells in the notebook.** When revising or going through notebooks, be sure to delete any code cells or code that isn't used at all, in order to improve the student's readability.\n",
    "3. **Don't forget to provide documentation / explanations for any work you share with developers and leads!** If you're not writing text descriptions for your part of the notebook, that's okay -- but always include comments or other ways of explaining your thought process to make co-developing with team members easier!"
   ]
  },
  {
   "cell_type": "markdown",
   "metadata": {},
   "source": [
    "<hr style=\"border: 2px solid #003262\">\n",
    "<hr style=\"border: 2px solid #C9B676\">"
   ]
  },
  {
   "cell_type": "markdown",
   "metadata": {},
   "source": [
    "## 4. How to Approach Creating a Notebook from Scratch"
   ]
  },
  {
   "cell_type": "markdown",
   "metadata": {},
   "source": [
    "For certain projects, you may find that the information from the instructors about what they want is a bit vague or hard to directly implement! That's totally okay -- part of the fun in integrating data science with other areas of study is figuring out the most effective way to do it!"
   ]
  },
  {
   "cell_type": "markdown",
   "metadata": {},
   "source": [
    "Here are a few tips that I have, based on my experience as a dev and a lead on projects where the starting point was very broad:\n",
    "1. **Try to establish concrete learning objectives with your team lead and/or the professor.** A lot of the time, the learning objectives can give you a generic outline of what the order of the notebook should look like.\n",
    "2. **Reference previous notebooks and/or course materials.** If you're working on a notebook in which your domain knowledge is limited, that's okay! The best place to start is by looking through any previous notebooks that were developed for the course and/or course materials available to you. From this you can usually gain some valuable insight when you go through the materials as someone who is seeing it for the first time.\n",
    "3. **Create an outline for yourself and fellow devs working on the task.** If you're working on the notebook with other devs, it's important to make sure you're all on the same page and understand your responsibilities! Discussing an overall outline and implementing it in the notebook together is a good place to start."
   ]
  },
  {
   "cell_type": "markdown",
   "metadata": {},
   "source": [
    "These tips may seem self-explanatory, but a lot of the time it can be easy to overlook them or feel overwhelmed without them when developing. Remember, if you ever feel stuck or stressed out by development, reach out to your team lead! We're here to help and make modules as rewarding for you as possible."
   ]
  },
  {
   "cell_type": "markdown",
   "metadata": {},
   "source": [
    "<hr style=\"border: 2px solid #003262\">\n",
    "<hr style=\"border: 2px solid #C9B676\">"
   ]
  },
  {
   "cell_type": "markdown",
   "metadata": {},
   "source": [
    "## Feedback Form Example Link\n",
    "\n",
    "This is just an example of how to incorporate the Google Form link. You can stylize it however you'd like!"
   ]
  },
  {
   "cell_type": "markdown",
   "metadata": {},
   "source": [
    "<div class=\"alert alert-info\">\n",
    "<b> We encourage students to fill out the following feedback form to share your experience with this Module notebook. This feedback form will take no longer than 5 minutes. At UC Berkeley Data Science Undergraduate Studies Modules, we appreciate all feedback to improve the learning of students and experience utilizing Jupyter Notebooks for Data Science Education: </b>\n",
    "</div>\n",
    "\n",
    "## [UC Berkeley Data Science Feedback Form](https://forms.gle/hPgYMxFWKXH2sVkd7)"
   ]
  },
  {
   "cell_type": "markdown",
   "metadata": {},
   "source": [
    "<hr style=\"border: 2px solid #003262\">\n",
    "<hr style=\"border: 2px solid #C9B676\">"
   ]
  },
  {
   "cell_type": "markdown",
   "metadata": {},
   "source": [
    "## References\n",
    "* \"Data Scientist Venn Diagram\" image by Stephan Kolassa, 18 November 2015. [source](http://www.prooffreader.com/2016/09/battle-of-data-science-venn-diagrams.html)\n",
    "* Code for hiding selected code cells adapted from code by Amitrajit Bose, 26 December 2018. [source](https://amitrajitbose.github.io/blog/hiding-input-cells-jupyter-notebook/)\n",
    "* Code for hiding all code cells by Damien Kao, 17 September 2014. [source](https://blog.nextgenetics.net/?e=102)\n",
    "\n"
   ]
  },
  {
   "cell_type": "markdown",
   "metadata": {},
   "source": [
    "Original notebook authors that this one was based on: Keeley Takimoto, Alleanna Clark, Vincent Lao"
   ]
  }
 ],
 "metadata": {
  "kernelspec": {
   "display_name": "Python 3 (ipykernel)",
   "language": "python",
   "name": "python3"
  },
  "language_info": {
   "codemirror_mode": {
    "name": "ipython",
    "version": 3
   },
   "file_extension": ".py",
   "mimetype": "text/x-python",
   "name": "python",
   "nbconvert_exporter": "python",
   "pygments_lexer": "ipython3",
   "version": "3.9.15"
  }
 },
 "nbformat": 4,
 "nbformat_minor": 2
}
